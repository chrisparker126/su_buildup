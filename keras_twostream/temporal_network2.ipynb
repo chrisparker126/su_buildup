{
 "cells": [
  {
   "cell_type": "code",
   "execution_count": 1,
   "metadata": {},
   "outputs": [
    {
     "name": "stderr",
     "output_type": "stream",
     "text": [
      "/home/ubuntu/anaconda3/envs/tensorflow_p36/lib/python3.6/site-packages/h5py/__init__.py:36: FutureWarning: Conversion of the second argument of issubdtype from `float` to `np.floating` is deprecated. In future, it will be treated as `np.float64 == np.dtype(float).type`.\n",
      "  from ._conv import register_converters as _register_converters\n",
      "Using TensorFlow backend.\n",
      "/home/ubuntu/anaconda3/envs/tensorflow_p36/lib/python3.6/site-packages/matplotlib/__init__.py:1067: UserWarning: Duplicate key in file \"/home/ubuntu/.config/matplotlib/matplotlibrc\", line #2\n",
      "  (fname, cnt))\n",
      "/home/ubuntu/anaconda3/envs/tensorflow_p36/lib/python3.6/site-packages/matplotlib/__init__.py:1067: UserWarning: Duplicate key in file \"/home/ubuntu/.config/matplotlib/matplotlibrc\", line #3\n",
      "  (fname, cnt))\n"
     ]
    }
   ],
   "source": [
    "import os\n",
    "import sys\n",
    "\n",
    "up1 = os.path.abspath('..') \n",
    "sys.path.insert(0, up1)\n",
    "from network import getSimpleMotionModelOnly, getKerasCifarMotionModelOnly\n",
    "from keras_data_generator.ucf101_datagenerator.optical_flow_data_gen import DataGenerator\n",
    "import csv\n",
    "from keras.optimizers import SGD"
   ]
  },
  {
   "cell_type": "code",
   "execution_count": 2,
   "metadata": {},
   "outputs": [],
   "source": [
    "params = { 'data_dir' : \"/data/tvl1_flow\",\n",
    "          'dim': (224,224),\n",
    "          'batch_size': 32,\n",
    "          'n_frames': 1,\n",
    "          'n_frequency': 1,\n",
    "          'shuffle': True, \n",
    "           'validation' : False}\n",
    "\n",
    "\n",
    "import re \n",
    "\n",
    "def get_train_data(listPath):\n",
    "# load Id list and labels \n",
    "\n",
    "    train_list = list()\n",
    "\n",
    "    with open(listPath, 'r') as f:\n",
    "        reader = csv.reader(f)\n",
    "        train_list = list(reader)\n",
    "\n",
    "        labels = [int(label[0].split(' ')[1]) for label in train_list ]\n",
    "    IDs = [label[0].split(' ')[0] for label in train_list ]\n",
    "    # IDs\n",
    "    IDs = [id.split('/')[1].rstrip('.avi') for id in IDs ]\n",
    "\n",
    "    labels = dict(zip(IDs, labels))\n",
    "    return (IDs, labels)\n",
    "\n",
    "def get_test_data(listPath, classIndexPath):\n",
    "# load Id list and labels \n",
    "    \n",
    "    train_list = None\n",
    "    class_labels = None\n",
    "    with open(listPath, 'r') as f:\n",
    "        reader = csv.reader(f)\n",
    "        train_list = list(reader)\n",
    "\n",
    "    with open(classIndexPath, 'r') as f:\n",
    "        reader = csv.reader(f)\n",
    "        class_labels = list(reader)\n",
    "    \n",
    "    ucf_class = [c[0].split(' ')[1] for c in class_labels]\n",
    "    ucf_labels = [int(c[0].split(' ')[0]) for c in class_labels]\n",
    "    \n",
    "    ucf_dict = dict(zip(ucf_class, ucf_labels))\n",
    "    \n",
    "    IDs = [id_[0].split('/')[1].rstrip('.avi') for id_ in train_list ]\n",
    "    labels = dict()\n",
    "    \n",
    "    p = re.compile('v\\_([a-zA-Z]*)\\_g\\w*') \n",
    "    for id_ in IDs:\n",
    "        f = p.match(id_)\n",
    "        if f:\n",
    "            labels[id_] = ucf_dict[f[1]]\n",
    "        else:\n",
    "            Exception(\"failed\")\n",
    "    return IDs, labels\n",
    "\n",
    "id_labels_train = get_train_data('../keras_data_generator/ucf101_splits/trainlist01.txt')\n",
    "labels = id_labels_train[1]\n",
    "id_test = get_test_data('../keras_data_generator/ucf101_splits/testlist01.txt', \\\n",
    "                       '../keras_data_generator/ucf101_splits/classInd.txt')\n",
    "\n",
    "training_generator = DataGenerator(*id_labels_train, **params)\n",
    "\n",
    "params['validation'] = True\n",
    "validation_generator = DataGenerator(id_test[0], id_test[1], **params)\n"
   ]
  },
  {
   "cell_type": "code",
   "execution_count": 3,
   "metadata": {},
   "outputs": [
    {
     "name": "stdout",
     "output_type": "stream",
     "text": [
      "_________________________________________________________________\n",
      "Layer (type)                 Output Shape              Param #   \n",
      "=================================================================\n",
      "conv2d_1 (Conv2D)            (None, 222, 222, 32)      608       \n",
      "_________________________________________________________________\n",
      "activation_1 (Activation)    (None, 222, 222, 32)      0         \n",
      "_________________________________________________________________\n",
      "max_pooling2d_1 (MaxPooling2 (None, 111, 111, 32)      0         \n",
      "_________________________________________________________________\n",
      "conv2d_2 (Conv2D)            (None, 109, 109, 32)      9248      \n",
      "_________________________________________________________________\n",
      "activation_2 (Activation)    (None, 109, 109, 32)      0         \n",
      "_________________________________________________________________\n",
      "max_pooling2d_2 (MaxPooling2 (None, 54, 54, 32)        0         \n",
      "_________________________________________________________________\n",
      "conv2d_3 (Conv2D)            (None, 52, 52, 64)        18496     \n",
      "_________________________________________________________________\n",
      "activation_3 (Activation)    (None, 52, 52, 64)        0         \n",
      "_________________________________________________________________\n",
      "max_pooling2d_3 (MaxPooling2 (None, 26, 26, 64)        0         \n",
      "_________________________________________________________________\n",
      "flatten_1 (Flatten)          (None, 43264)             0         \n",
      "_________________________________________________________________\n",
      "dense_1 (Dense)              (None, 64)                2768960   \n",
      "_________________________________________________________________\n",
      "activation_4 (Activation)    (None, 64)                0         \n",
      "_________________________________________________________________\n",
      "dropout_1 (Dropout)          (None, 64)                0         \n",
      "_________________________________________________________________\n",
      "dense_2 (Dense)              (None, 101)               6565      \n",
      "_________________________________________________________________\n",
      "activation_5 (Activation)    (None, 101)               0         \n",
      "=================================================================\n",
      "Total params: 2,803,877\n",
      "Trainable params: 2,803,877\n",
      "Non-trainable params: 0\n",
      "_________________________________________________________________\n"
     ]
    }
   ],
   "source": [
    "\n",
    "simple_model= getSimpleMotionModelOnly(input_shape=(224,224,2), n_classes=101)"
   ]
  },
  {
   "cell_type": "code",
   "execution_count": 4,
   "metadata": {},
   "outputs": [],
   "source": [
    "\n",
    "\n",
    "simple_model.load_weights('.motion_model_weights.h5')\n",
    "mypotim = SGD(lr=1e-2, decay=1e-6, momentum=0.9, nesterov=True)\n",
    "simple_model.compile(loss='categorical_crossentropy',\n",
    "              optimizer=mypotim,\n",
    "              metrics=['accuracy'])"
   ]
  },
  {
   "cell_type": "code",
   "execution_count": 6,
   "metadata": {
    "scrolled": true
   },
   "outputs": [
    {
     "name": "stdout",
     "output_type": "stream",
     "text": [
      "Epoch 1/20\n",
      "297/298 [============================>.] - ETA: 0s - loss: 3.6094 - acc: 0.1598Epoch 1/20\n",
      "298/298 [==============================] - 38s 127ms/step - loss: 3.6101 - acc: 0.1597 - val_loss: 3.6614 - val_acc: 0.1658\n",
      "Epoch 2/20\n",
      "298/298 [==============================] - 38s 127ms/step - loss: 3.6204 - acc: 0.1570 - val_loss: 3.6278 - val_acc: 0.1645\n",
      "Epoch 3/20\n",
      "298/298 [==============================] - 42s 143ms/step - loss: 3.6023 - acc: 0.1643 - val_loss: 3.6785 - val_acc: 0.1557\n",
      "Epoch 4/20\n",
      "298/298 [==============================] - 39s 132ms/step - loss: 3.5951 - acc: 0.1593 - val_loss: 3.6218 - val_acc: 0.1523\n",
      "Epoch 5/20\n",
      "298/298 [==============================] - 41s 138ms/step - loss: 3.5772 - acc: 0.1604 - val_loss: 3.6389 - val_acc: 0.1499\n",
      "Epoch 6/20\n",
      "298/298 [==============================] - 42s 139ms/step - loss: 3.5497 - acc: 0.1710 - val_loss: 3.6147 - val_acc: 0.1565\n",
      "Epoch 7/20\n",
      "298/298 [==============================] - 39s 132ms/step - loss: 3.5512 - acc: 0.1721 - val_loss: 3.6649 - val_acc: 0.1541\n",
      "Epoch 8/20\n",
      "298/298 [==============================] - 42s 140ms/step - loss: 3.5198 - acc: 0.1758 - val_loss: 3.5759 - val_acc: 0.1629\n",
      "Epoch 9/20\n",
      "298/298 [==============================] - 39s 130ms/step - loss: 3.5495 - acc: 0.1743 - val_loss: 3.6865 - val_acc: 0.1623\n",
      "Epoch 10/20\n",
      "298/298 [==============================] - 42s 141ms/step - loss: 3.5060 - acc: 0.1783 - val_loss: 3.5549 - val_acc: 0.1796\n",
      "Epoch 11/20\n",
      "298/298 [==============================] - 40s 133ms/step - loss: 3.5129 - acc: 0.1762 - val_loss: 3.6227 - val_acc: 0.1692\n",
      "Epoch 12/20\n",
      "298/298 [==============================] - 41s 136ms/step - loss: 3.5157 - acc: 0.1776 - val_loss: 3.6323 - val_acc: 0.1581\n",
      "Epoch 13/20\n",
      "298/298 [==============================] - 39s 131ms/step - loss: 3.4985 - acc: 0.1780 - val_loss: 3.6654 - val_acc: 0.1539\n",
      "Epoch 14/20\n",
      "298/298 [==============================] - 41s 137ms/step - loss: 3.4870 - acc: 0.1806 - val_loss: 3.6412 - val_acc: 0.1602\n",
      "Epoch 15/20\n",
      "298/298 [==============================] - 41s 137ms/step - loss: 3.4828 - acc: 0.1906 - val_loss: 3.6302 - val_acc: 0.1615\n",
      "Epoch 16/20\n",
      "298/298 [==============================] - 37s 123ms/step - loss: 3.4644 - acc: 0.1885 - val_loss: 3.5782 - val_acc: 0.1716\n",
      "Epoch 17/20\n",
      "298/298 [==============================] - 39s 130ms/step - loss: 3.4692 - acc: 0.1867 - val_loss: 3.5518 - val_acc: 0.1671\n",
      "Epoch 18/20\n",
      "298/298 [==============================] - 41s 137ms/step - loss: 3.4554 - acc: 0.1935 - val_loss: 3.5874 - val_acc: 0.1629\n",
      "Epoch 19/20\n",
      "298/298 [==============================] - 39s 130ms/step - loss: 3.4641 - acc: 0.1934 - val_loss: 3.5647 - val_acc: 0.1764\n",
      "Epoch 20/20\n",
      "298/298 [==============================] - 38s 128ms/step - loss: 3.4410 - acc: 0.1895 - val_loss: 3.5384 - val_acc: 0.1758\n"
     ]
    }
   ],
   "source": [
    "mod1 = simple_model.fit_generator(generator=training_generator,\n",
    "                    validation_data=validation_generator,\n",
    "                    use_multiprocessing=True,\n",
    "                    workers=2, epochs=20,\n",
    "                    verbose=1)"
   ]
  },
  {
   "cell_type": "code",
   "execution_count": 9,
   "metadata": {},
   "outputs": [
    {
     "data": {
      "text/plain": [
       "[<matplotlib.lines.Line2D at 0x7efee1b73ef0>]"
      ]
     },
     "execution_count": 9,
     "metadata": {},
     "output_type": "execute_result"
    },
    {
     "data": {
      "image/png": "[encoded data removed]",
      "text/plain": [
       "<Figure size 432x288 with 1 Axes>"
      ]
     },
     "metadata": {},
     "output_type": "display_data"
    }
   ],
   "source": [
    "from matplotlib import pyplot as  plt\n",
    "plt.plot(mod1.history['val_acc'])"
   ]
  },
  {
   "cell_type": "code",
   "execution_count": 13,
   "metadata": {},
   "outputs": [],
   "source": [
    "simple_model.save_weights('.motion_model_weights2.h5')"
   ]
  },
  {
   "cell_type": "code",
   "execution_count": 16,
   "metadata": {},
   "outputs": [
    {
     "name": "stdout",
     "output_type": "stream",
     "text": [
      "_________________________________________________________________\n",
      "Layer (type)                 Output Shape              Param #   \n",
      "=================================================================\n",
      "conv2d_10 (Conv2D)           (None, 222, 222, 32)      608       \n",
      "_________________________________________________________________\n",
      "activation_16 (Activation)   (None, 222, 222, 32)      0         \n",
      "_________________________________________________________________\n",
      "max_pooling2d_10 (MaxPooling (None, 111, 111, 32)      0         \n",
      "_________________________________________________________________\n",
      "conv2d_11 (Conv2D)           (None, 109, 109, 32)      9248      \n",
      "_________________________________________________________________\n",
      "activation_17 (Activation)   (None, 109, 109, 32)      0         \n",
      "_________________________________________________________________\n",
      "max_pooling2d_11 (MaxPooling (None, 54, 54, 32)        0         \n",
      "_________________________________________________________________\n",
      "conv2d_12 (Conv2D)           (None, 52, 52, 64)        18496     \n",
      "_________________________________________________________________\n",
      "activation_18 (Activation)   (None, 52, 52, 64)        0         \n",
      "_________________________________________________________________\n",
      "max_pooling2d_12 (MaxPooling (None, 26, 26, 64)        0         \n",
      "_________________________________________________________________\n",
      "flatten_4 (Flatten)          (None, 43264)             0         \n",
      "_________________________________________________________________\n",
      "dense_7 (Dense)              (None, 64)                2768960   \n",
      "_________________________________________________________________\n",
      "activation_19 (Activation)   (None, 64)                0         \n",
      "_________________________________________________________________\n",
      "dropout_4 (Dropout)          (None, 64)                0         \n",
      "_________________________________________________________________\n",
      "dense_8 (Dense)              (None, 101)               6565      \n",
      "_________________________________________________________________\n",
      "activation_20 (Activation)   (None, 101)               0         \n",
      "=================================================================\n",
      "Total params: 2,803,877\n",
      "Trainable params: 2,803,877\n",
      "Non-trainable params: 0\n",
      "_________________________________________________________________\n"
     ]
    }
   ],
   "source": [
    "\n",
    "simple_model2= getSimpleMotionModelOnly(input_shape=(224,224,2), n_classes=101)\n",
    "simple_model2.load_weights('.motion_model_weights2.h5')\n",
    "mypotim = SGD(lr=0.5e-2, decay=1e-6, momentum=0.9, nesterov=True)\n",
    "simple_model2.compile(loss='categorical_crossentropy',\n",
    "              optimizer=mypotim,\n",
    "              metrics=['accuracy'])"
   ]
  },
  {
   "cell_type": "code",
   "execution_count": 17,
   "metadata": {},
   "outputs": [
    {
     "name": "stdout",
     "output_type": "stream",
     "text": [
      "Epoch 1/20\n",
      "297/298 [============================>.] - ETA: 0s - loss: 3.3464 - acc: 0.2085\n",
      "298/298 [==============================] - 39s 132ms/step - loss: 3.3471 - acc: 0.2083 - val_loss: 3.5233 - val_acc: 0.1854\n",
      "Epoch 2/20\n",
      "298/298 [==============================] - 39s 130ms/step - loss: 3.3501 - acc: 0.2113 - val_loss: 3.4791 - val_acc: 0.1880\n",
      "Epoch 3/20\n",
      "298/298 [==============================] - 40s 135ms/step - loss: 3.3153 - acc: 0.2139 - val_loss: 3.4635 - val_acc: 0.1936\n",
      "Epoch 4/20\n",
      "298/298 [==============================] - 36s 121ms/step - loss: 3.2679 - acc: 0.2208 - val_loss: 3.4729 - val_acc: 0.1920\n",
      "Epoch 5/20\n",
      "298/298 [==============================] - 41s 136ms/step - loss: 3.2807 - acc: 0.2159 - val_loss: 3.4422 - val_acc: 0.2023\n",
      "Epoch 6/20\n",
      "298/298 [==============================] - 37s 124ms/step - loss: 3.2770 - acc: 0.2280 - val_loss: 3.4900 - val_acc: 0.1962\n",
      "Epoch 7/20\n",
      "298/298 [==============================] - 42s 140ms/step - loss: 3.2424 - acc: 0.2282 - val_loss: 3.4578 - val_acc: 0.1949\n",
      "Epoch 8/20\n",
      "298/298 [==============================] - 38s 129ms/step - loss: 3.2463 - acc: 0.2270 - val_loss: 3.4513 - val_acc: 0.2029\n",
      "Epoch 9/20\n",
      "298/298 [==============================] - 38s 126ms/step - loss: 3.2849 - acc: 0.2234 - val_loss: 3.4151 - val_acc: 0.2007\n",
      "Epoch 10/20\n",
      "298/298 [==============================] - 38s 128ms/step - loss: 3.2688 - acc: 0.2197 - val_loss: 3.4642 - val_acc: 0.1904\n",
      "Epoch 11/20\n",
      "298/298 [==============================] - 39s 132ms/step - loss: 3.2060 - acc: 0.2334 - val_loss: 3.4425 - val_acc: 0.1928\n",
      "Epoch 12/20\n",
      "298/298 [==============================] - 36s 120ms/step - loss: 3.2275 - acc: 0.2280 - val_loss: 3.3893 - val_acc: 0.2087\n",
      "Epoch 13/20\n",
      "298/298 [==============================] - 39s 132ms/step - loss: 3.2168 - acc: 0.2316 - val_loss: 3.4930 - val_acc: 0.2010\n",
      "Epoch 14/20\n",
      "298/298 [==============================] - 37s 126ms/step - loss: 3.2243 - acc: 0.2345 - val_loss: 3.4383 - val_acc: 0.2100\n",
      "Epoch 15/20\n",
      "298/298 [==============================] - 39s 131ms/step - loss: 3.2141 - acc: 0.2335 - val_loss: 3.4133 - val_acc: 0.2031\n",
      "Epoch 16/20\n",
      "298/298 [==============================] - 39s 129ms/step - loss: 3.1672 - acc: 0.2351 - val_loss: 3.4669 - val_acc: 0.1909\n",
      "Epoch 17/20\n",
      "298/298 [==============================] - 37s 125ms/step - loss: 3.1694 - acc: 0.2411 - val_loss: 3.4012 - val_acc: 0.2140\n",
      "Epoch 18/20\n",
      "298/298 [==============================] - 37s 123ms/step - loss: 3.1903 - acc: 0.2373 - val_loss: 3.4300 - val_acc: 0.2005\n",
      "Epoch 19/20\n",
      "298/298 [==============================] - 41s 136ms/step - loss: 3.1849 - acc: 0.2328 - val_loss: 3.3969 - val_acc: 0.2063\n",
      "Epoch 20/20\n",
      "298/298 [==============================] - 35s 118ms/step - loss: 3.1678 - acc: 0.2412 - val_loss: 3.4002 - val_acc: 0.2097\n"
     ]
    }
   ],
   "source": [
    "mod2 = simple_model2.fit_generator(generator=training_generator,\n",
    "                    validation_data=validation_generator,\n",
    "                    use_multiprocessing=True,\n",
    "                    workers=2, epochs=20,\n",
    "                    verbose=1)"
   ]
  },
  {
   "cell_type": "code",
   "execution_count": 19,
   "metadata": {},
   "outputs": [],
   "source": [
    "simple_model2.save_weights('.motion_model_weights2.h5')"
   ]
  },
  {
   "cell_type": "code",
   "execution_count": 3,
   "metadata": {},
   "outputs": [],
   "source": [
    "\n",
    "simple_model3= getKerasCifarMotionModelOnly(input_shape=(224,224,2), n_classes=101, printmod=0)"
   ]
  },
  {
   "cell_type": "code",
   "execution_count": 4,
   "metadata": {},
   "outputs": [],
   "source": [
    "mypotim = SGD(lr=0.5e-2, decay=1e-6, momentum=0.9, nesterov=True)\n",
    "simple_model3.compile(loss='categorical_crossentropy',\n",
    "              optimizer=mypotim,\n",
    "              metrics=['accuracy'])"
   ]
  },
  {
   "cell_type": "code",
   "execution_count": 5,
   "metadata": {},
   "outputs": [
    {
     "name": "stdout",
     "output_type": "stream",
     "text": [
      "WARNING:tensorflow:Variable *= will be deprecated. Use variable.assign_mul if you want assignment to the variable value or 'x = x * y' if you want a new python Tensor object.\n",
      "Epoch 1/20\n",
      "298/298 [==============================] - 102s 342ms/step - loss: 4.5377 - acc: 0.0261 - val_loss: 4.4764 - val_acc: 0.0305\n",
      "Epoch 2/20\n",
      "298/298 [==============================] - 98s 329ms/step - loss: 4.4209 - acc: 0.0411 - val_loss: 4.3803 - val_acc: 0.0543\n",
      "Epoch 3/20\n",
      "298/298 [==============================] - 99s 332ms/step - loss: 4.3286 - acc: 0.0519 - val_loss: 4.3340 - val_acc: 0.0596\n",
      "Epoch 4/20\n",
      "298/298 [==============================] - 98s 330ms/step - loss: 4.2636 - acc: 0.0640 - val_loss: 4.2953 - val_acc: 0.0662\n",
      "Epoch 5/20\n",
      "298/298 [==============================] - 98s 330ms/step - loss: 4.1974 - acc: 0.0829 - val_loss: 4.2218 - val_acc: 0.0773\n",
      "Epoch 6/20\n",
      "298/298 [==============================] - 98s 330ms/step - loss: 4.1353 - acc: 0.0844 - val_loss: 4.2114 - val_acc: 0.0763\n",
      "Epoch 7/20\n",
      "298/298 [==============================] - 99s 332ms/step - loss: 4.0610 - acc: 0.0947 - val_loss: 4.1665 - val_acc: 0.0834\n",
      "Epoch 8/20\n",
      "298/298 [==============================] - 98s 330ms/step - loss: 4.0130 - acc: 0.1035 - val_loss: 4.1183 - val_acc: 0.0916\n",
      "Epoch 9/20\n",
      "298/298 [==============================] - 98s 329ms/step - loss: 3.9555 - acc: 0.1154 - val_loss: 4.1018 - val_acc: 0.0890\n",
      "Epoch 10/20\n",
      "298/298 [==============================] - 98s 329ms/step - loss: 3.9183 - acc: 0.1225 - val_loss: 4.0481 - val_acc: 0.0932\n",
      "Epoch 11/20\n",
      "298/298 [==============================] - 98s 329ms/step - loss: 3.8429 - acc: 0.1327 - val_loss: 3.9763 - val_acc: 0.1165\n",
      "Epoch 12/20\n",
      "298/298 [==============================] - 98s 329ms/step - loss: 3.7803 - acc: 0.1453 - val_loss: 3.9137 - val_acc: 0.1221\n",
      "Epoch 13/20\n",
      "298/298 [==============================] - 98s 329ms/step - loss: 3.7155 - acc: 0.1574 - val_loss: 3.9131 - val_acc: 0.1234\n",
      "Epoch 14/20\n",
      "298/298 [==============================] - 98s 328ms/step - loss: 3.6839 - acc: 0.1642 - val_loss: 3.8895 - val_acc: 0.1345\n",
      "Epoch 15/20\n",
      "298/298 [==============================] - 98s 329ms/step - loss: 3.6510 - acc: 0.1681 - val_loss: 3.8289 - val_acc: 0.1374\n",
      "Epoch 16/20\n",
      "298/298 [==============================] - 98s 328ms/step - loss: 3.6017 - acc: 0.1807 - val_loss: 3.7904 - val_acc: 0.1494\n",
      "Epoch 17/20\n",
      "298/298 [==============================] - 98s 328ms/step - loss: 3.5504 - acc: 0.1896 - val_loss: 3.7870 - val_acc: 0.1422\n",
      "Epoch 18/20\n",
      "298/298 [==============================] - 98s 328ms/step - loss: 3.4457 - acc: 0.2046 - val_loss: 3.7477 - val_acc: 0.1441\n",
      "Epoch 19/20\n",
      "298/298 [==============================] - 99s 331ms/step - loss: 3.3922 - acc: 0.2125 - val_loss: 3.7075 - val_acc: 0.1637\n",
      "Epoch 20/20\n",
      "298/298 [==============================] - 98s 328ms/step - loss: 3.3641 - acc: 0.2227 - val_loss: 3.7484 - val_acc: 0.1438\n"
     ]
    }
   ],
   "source": [
    "mod3 = simple_model3.fit_generator(generator=training_generator,\n",
    "                    validation_data=validation_generator,\n",
    "                    use_multiprocessing=True,\n",
    "                    workers=2, epochs=20,\n",
    "                    verbose=1)"
   ]
  },
  {
   "cell_type": "code",
   "execution_count": 7,
   "metadata": {},
   "outputs": [],
   "source": [
    "simple_model3.save_weights('.motion_model_cifar_weights1.h5')"
   ]
  },
  {
   "cell_type": "code",
   "execution_count": 8,
   "metadata": {},
   "outputs": [
    {
     "name": "stdout",
     "output_type": "stream",
     "text": [
      "Epoch 1/20\n",
      "298/298 [==============================] - 98s 328ms/step - loss: 3.3208 - acc: 0.2279 - val_loss: 3.6958 - val_acc: 0.1557\n",
      "Epoch 2/20\n",
      "298/298 [==============================] - 98s 328ms/step - loss: 3.2899 - acc: 0.2398 - val_loss: 3.6598 - val_acc: 0.1660\n",
      "Epoch 3/20\n",
      "298/298 [==============================] - 98s 328ms/step - loss: 3.2320 - acc: 0.2457 - val_loss: 3.5929 - val_acc: 0.1706\n",
      "Epoch 4/20\n",
      "298/298 [==============================] - 98s 329ms/step - loss: 3.2187 - acc: 0.2493 - val_loss: 3.6226 - val_acc: 0.1698\n",
      "Epoch 5/20\n",
      "298/298 [==============================] - 98s 329ms/step - loss: 3.1601 - acc: 0.2583 - val_loss: 3.6931 - val_acc: 0.1690\n",
      "Epoch 6/20\n",
      "298/298 [==============================] - 98s 329ms/step - loss: 3.1243 - acc: 0.2656 - val_loss: 3.5598 - val_acc: 0.1894\n",
      "Epoch 7/20\n",
      "298/298 [==============================] - 98s 330ms/step - loss: 3.0570 - acc: 0.2797 - val_loss: 3.5331 - val_acc: 0.1891\n",
      "Epoch 8/20\n",
      "298/298 [==============================] - 98s 329ms/step - loss: 3.0691 - acc: 0.2790 - val_loss: 3.5551 - val_acc: 0.1819\n",
      "Epoch 9/20\n",
      "298/298 [==============================] - 98s 330ms/step - loss: 3.0376 - acc: 0.2837 - val_loss: 3.5308 - val_acc: 0.1883\n",
      "Epoch 10/20\n",
      "298/298 [==============================] - 98s 329ms/step - loss: 3.0056 - acc: 0.2891 - val_loss: 3.4707 - val_acc: 0.2010\n",
      "Epoch 11/20\n",
      "298/298 [==============================] - 98s 329ms/step - loss: 2.9758 - acc: 0.2966 - val_loss: 3.5863 - val_acc: 0.1851\n",
      "Epoch 12/20\n",
      "298/298 [==============================] - 98s 329ms/step - loss: 2.9279 - acc: 0.3099 - val_loss: 3.4874 - val_acc: 0.2005\n",
      "Epoch 13/20\n",
      "298/298 [==============================] - 98s 329ms/step - loss: 2.9083 - acc: 0.3098 - val_loss: 3.4539 - val_acc: 0.2029\n",
      "Epoch 14/20\n",
      "298/298 [==============================] - 99s 331ms/step - loss: 2.8517 - acc: 0.3213 - val_loss: 3.5080 - val_acc: 0.1909\n",
      "Epoch 15/20\n",
      "298/298 [==============================] - 98s 329ms/step - loss: 2.8560 - acc: 0.3216 - val_loss: 3.4294 - val_acc: 0.2092\n",
      "Epoch 16/20\n",
      "298/298 [==============================] - 98s 329ms/step - loss: 2.8201 - acc: 0.3273 - val_loss: 3.4592 - val_acc: 0.2142\n",
      "Epoch 17/20\n",
      "298/298 [==============================] - 98s 329ms/step - loss: 2.8035 - acc: 0.3293 - val_loss: 3.4762 - val_acc: 0.2068\n",
      "Epoch 18/20\n",
      "298/298 [==============================] - 98s 330ms/step - loss: 2.8069 - acc: 0.3277 - val_loss: 3.4038 - val_acc: 0.2180\n",
      "Epoch 19/20\n",
      "298/298 [==============================] - 98s 329ms/step - loss: 2.7401 - acc: 0.3480 - val_loss: 3.4285 - val_acc: 0.2042\n",
      "Epoch 20/20\n",
      "298/298 [==============================] - 98s 329ms/step - loss: 2.7437 - acc: 0.3471 - val_loss: 3.3998 - val_acc: 0.2219\n"
     ]
    }
   ],
   "source": [
    "mod4 = simple_model3.fit_generator(generator=training_generator,\n",
    "                    validation_data=validation_generator,\n",
    "                    use_multiprocessing=True,\n",
    "                    workers=2, epochs=20,\n",
    "                    verbose=1)"
   ]
  },
  {
   "cell_type": "code",
   "execution_count": 9,
   "metadata": {},
   "outputs": [],
   "source": [
    "simple_model3.save_weights('.motion_model_cifar_weights2.h5')"
   ]
  },
  {
   "cell_type": "code",
   "execution_count": 10,
   "metadata": {},
   "outputs": [],
   "source": [
    "simple_model4= getKerasCifarMotionModelOnly(input_shape=(224,224,2), n_classes=101, printmod=0)\n",
    "simple_model4.load_weights('.motion_model_cifar_weights2.h5')\n",
    "mypotim = SGD(lr=1e-4, momentum=0.9)\n",
    "simple_model4.compile(loss='categorical_crossentropy',\n",
    "              optimizer=mypotim,\n",
    "              metrics=['accuracy'])"
   ]
  },
  {
   "cell_type": "code",
   "execution_count": 11,
   "metadata": {},
   "outputs": [
    {
     "name": "stdout",
     "output_type": "stream",
     "text": [
      "Epoch 1/10\n",
      "297/298 [============================>.] - ETA: 0s - loss: 2.6596 - acc: 0.3646\n",
      "298/298 [==============================] - 95s 318ms/step - loss: 2.6589 - acc: 0.3644 - val_loss: 3.3678 - val_acc: 0.2185\n",
      "Epoch 2/10\n",
      "298/298 [==============================] - 94s 316ms/step - loss: 2.6113 - acc: 0.3630 - val_loss: 3.3046 - val_acc: 0.2381\n",
      "Epoch 3/10\n",
      "298/298 [==============================] - 95s 317ms/step - loss: 2.5865 - acc: 0.3743 - val_loss: 3.3099 - val_acc: 0.2272\n",
      "Epoch 4/10\n",
      "298/298 [==============================] - 94s 316ms/step - loss: 2.5586 - acc: 0.3786 - val_loss: 3.3204 - val_acc: 0.2325\n",
      "Epoch 5/10\n",
      "298/298 [==============================] - 94s 316ms/step - loss: 2.5540 - acc: 0.3810 - val_loss: 3.3012 - val_acc: 0.2275\n",
      "Epoch 6/10\n",
      "298/298 [==============================] - 94s 316ms/step - loss: 2.5369 - acc: 0.3873 - val_loss: 3.3231 - val_acc: 0.2352\n",
      "Epoch 7/10\n",
      "298/298 [==============================] - 94s 316ms/step - loss: 2.5200 - acc: 0.3948 - val_loss: 3.2953 - val_acc: 0.2373\n",
      "Epoch 8/10\n",
      "298/298 [==============================] - 94s 316ms/step - loss: 2.5491 - acc: 0.3841 - val_loss: 3.2886 - val_acc: 0.2341\n",
      "Epoch 9/10\n",
      "298/298 [==============================] - 94s 317ms/step - loss: 2.5381 - acc: 0.3849 - val_loss: 3.2801 - val_acc: 0.2426\n",
      "Epoch 10/10\n",
      "298/298 [==============================] - 95s 317ms/step - loss: 2.5331 - acc: 0.3832 - val_loss: 3.2733 - val_acc: 0.2479\n"
     ]
    }
   ],
   "source": [
    "mod4 = simple_model4.fit_generator(generator=training_generator,\n",
    "                    validation_data=validation_generator,\n",
    "                    use_multiprocessing=True,\n",
    "                    workers=2, epochs=10,\n",
    "                    verbose=1)"
   ]
  },
  {
   "cell_type": "code",
   "execution_count": 12,
   "metadata": {},
   "outputs": [
    {
     "name": "stdout",
     "output_type": "stream",
     "text": [
      "Epoch 1/20\n",
      "298/298 [==============================] - 94s 315ms/step - loss: 2.4983 - acc: 0.3934 - val_loss: 3.2366 - val_acc: 0.2481\n",
      "Epoch 2/20\n",
      "298/298 [==============================] - 94s 315ms/step - loss: 2.4811 - acc: 0.3990 - val_loss: 3.3063 - val_acc: 0.2365\n",
      "Epoch 3/20\n",
      "298/298 [==============================] - 95s 317ms/step - loss: 2.4982 - acc: 0.3919 - val_loss: 3.3036 - val_acc: 0.2320\n",
      "Epoch 4/20\n",
      "298/298 [==============================] - 94s 315ms/step - loss: 2.4876 - acc: 0.3952 - val_loss: 3.2559 - val_acc: 0.2344\n",
      "Epoch 5/20\n",
      "298/298 [==============================] - 95s 319ms/step - loss: 2.4465 - acc: 0.4020 - val_loss: 3.2649 - val_acc: 0.2428\n",
      "Epoch 6/20\n",
      "298/298 [==============================] - 94s 316ms/step - loss: 2.4760 - acc: 0.4011 - val_loss: 3.2970 - val_acc: 0.2331\n",
      "Epoch 7/20\n",
      "298/298 [==============================] - 94s 316ms/step - loss: 2.4998 - acc: 0.3946 - val_loss: 3.2844 - val_acc: 0.2357\n",
      "Epoch 8/20\n",
      "298/298 [==============================] - 94s 317ms/step - loss: 2.4786 - acc: 0.3963 - val_loss: 3.2486 - val_acc: 0.2463\n",
      "Epoch 9/20\n",
      "298/298 [==============================] - 94s 317ms/step - loss: 2.4949 - acc: 0.3967 - val_loss: 3.2706 - val_acc: 0.2376\n",
      "Epoch 10/20\n",
      "298/298 [==============================] - 94s 316ms/step - loss: 2.4663 - acc: 0.4032 - val_loss: 3.2696 - val_acc: 0.2370\n",
      "Epoch 11/20\n",
      "298/298 [==============================] - 94s 316ms/step - loss: 2.4977 - acc: 0.3992 - val_loss: 3.2478 - val_acc: 0.2481\n",
      "Epoch 12/20\n",
      "298/298 [==============================] - 94s 317ms/step - loss: 2.4644 - acc: 0.3988 - val_loss: 3.2107 - val_acc: 0.2526\n",
      "Epoch 13/20\n",
      "298/298 [==============================] - 94s 317ms/step - loss: 2.4745 - acc: 0.3992 - val_loss: 3.2969 - val_acc: 0.2370\n",
      "Epoch 14/20\n",
      "298/298 [==============================] - 95s 317ms/step - loss: 2.4708 - acc: 0.3990 - val_loss: 3.2408 - val_acc: 0.2463\n",
      "Epoch 15/20\n",
      "298/298 [==============================] - 94s 317ms/step - loss: 2.4560 - acc: 0.4010 - val_loss: 3.2549 - val_acc: 0.2476\n",
      "Epoch 16/20\n",
      "298/298 [==============================] - 94s 316ms/step - loss: 2.4865 - acc: 0.3968 - val_loss: 3.2730 - val_acc: 0.2460\n",
      "Epoch 17/20\n",
      "298/298 [==============================] - 94s 315ms/step - loss: 2.4418 - acc: 0.4010 - val_loss: 3.2183 - val_acc: 0.2513\n",
      "Epoch 18/20\n",
      "298/298 [==============================] - 94s 316ms/step - loss: 2.4699 - acc: 0.4040 - val_loss: 3.2558 - val_acc: 0.2471\n",
      "Epoch 19/20\n",
      "298/298 [==============================] - 94s 315ms/step - loss: 2.4691 - acc: 0.4072 - val_loss: 3.2361 - val_acc: 0.2508\n",
      "Epoch 20/20\n",
      "298/298 [==============================] - 95s 319ms/step - loss: 2.4517 - acc: 0.4033 - val_loss: 3.2201 - val_acc: 0.2471\n"
     ]
    }
   ],
   "source": [
    "mod4 = simple_model4.fit_generator(generator=training_generator,\n",
    "                    validation_data=validation_generator,\n",
    "                    use_multiprocessing=True,\n",
    "                    workers=2, epochs=20,\n",
    "                    verbose=1)"
   ]
  },
  {
   "cell_type": "code",
   "execution_count": 13,
   "metadata": {},
   "outputs": [],
   "source": [
    "simple_model4.save_weights('.motion_model_cifar_weights3.h5')"
   ]
  },
  {
   "cell_type": "code",
   "execution_count": 3,
   "metadata": {},
   "outputs": [],
   "source": [
    "params = { 'data_dir' : \"/data/tvl1_flow\",\n",
    "          'dim': (224,224),\n",
    "          'batch_size': 32,\n",
    "          'n_frames': 4,\n",
    "          'n_frequency': 5,\n",
    "          'shuffle': True, \n",
    "           'validation' : False}\n",
    "\n",
    "training_generator = DataGenerator(*id_labels_train, **params)\n",
    "\n",
    "params['validation'] = True\n",
    "validation_generator = DataGenerator(id_test[0], id_test[1], **params)\n"
   ]
  },
  {
   "cell_type": "code",
   "execution_count": 24,
   "metadata": {},
   "outputs": [],
   "source": [
    "simple_model5= getKerasCifarMotionModelOnly(input_shape=(224,224,8), n_classes=101, printmod=0)\n",
    "mypotim = SGD(lr=0.5e-2, momentum=0.9)\n",
    "simple_model5.compile(loss='categorical_crossentropy',\n",
    "              optimizer=mypotim,\n",
    "              metrics=['accuracy'])"
   ]
  },
  {
   "cell_type": "code",
   "execution_count": 25,
   "metadata": {},
   "outputs": [
    {
     "name": "stdout",
     "output_type": "stream",
     "text": [
      "Epoch 1/1\n",
      "298/298 [==============================] - 172s 578ms/step - loss: 4.5545 - acc: 0.0275 - val_loss: 4.5115 - val_acc: 0.0381\n"
     ]
    }
   ],
   "source": [
    "mod5 = simple_model5.fit_generator(generator=training_generator,\n",
    "                    validation_data=validation_generator,\n",
    "                    use_multiprocessing=True,\n",
    "                    workers=2, epochs=1,\n",
    "                    verbose=1)"
   ]
  },
  {
   "cell_type": "code",
   "execution_count": 26,
   "metadata": {},
   "outputs": [
    {
     "name": "stdout",
     "output_type": "stream",
     "text": [
      "Epoch 1/20\n",
      "298/298 [==============================] - 169s 569ms/step - loss: 4.4389 - acc: 0.0487 - val_loss: 4.4072 - val_acc: 0.0625\n",
      "Epoch 2/20\n",
      "298/298 [==============================] - 168s 564ms/step - loss: 4.2851 - acc: 0.0708 - val_loss: 4.2238 - val_acc: 0.0903\n",
      "Epoch 3/20\n",
      "298/298 [==============================] - 165s 555ms/step - loss: 4.0842 - acc: 0.0948 - val_loss: 4.0648 - val_acc: 0.1033\n",
      "Epoch 4/20\n",
      "298/298 [==============================] - 167s 561ms/step - loss: 3.9419 - acc: 0.1201 - val_loss: 3.9756 - val_acc: 0.1181\n",
      "Epoch 5/20\n",
      "298/298 [==============================] - 169s 568ms/step - loss: 3.8272 - acc: 0.1349 - val_loss: 3.9921 - val_acc: 0.1020\n",
      "Epoch 6/20\n",
      "298/298 [==============================] - 169s 568ms/step - loss: 3.7420 - acc: 0.1544 - val_loss: 3.8724 - val_acc: 0.1284\n",
      "Epoch 7/20\n",
      "298/298 [==============================] - 166s 558ms/step - loss: 3.6327 - acc: 0.1697 - val_loss: 3.8204 - val_acc: 0.1425\n",
      "Epoch 8/20\n",
      "298/298 [==============================] - 167s 560ms/step - loss: 3.5597 - acc: 0.1862 - val_loss: 3.8536 - val_acc: 0.1369\n",
      "Epoch 9/20\n",
      "298/298 [==============================] - 165s 554ms/step - loss: 3.5029 - acc: 0.1924 - val_loss: 3.7972 - val_acc: 0.1435\n",
      "Epoch 10/20\n",
      "298/298 [==============================] - 165s 554ms/step - loss: 3.4395 - acc: 0.2088 - val_loss: 3.8454 - val_acc: 0.1388\n",
      "Epoch 11/20\n",
      "298/298 [==============================] - 166s 555ms/step - loss: 3.3658 - acc: 0.2289 - val_loss: 3.7986 - val_acc: 0.1417\n",
      "Epoch 12/20\n",
      "298/298 [==============================] - 165s 553ms/step - loss: 3.3015 - acc: 0.2380 - val_loss: 3.7524 - val_acc: 0.1504\n",
      "Epoch 13/20\n",
      "298/298 [==============================] - 165s 555ms/step - loss: 3.2288 - acc: 0.2521 - val_loss: 3.6667 - val_acc: 0.1655\n",
      "Epoch 14/20\n",
      "298/298 [==============================] - 164s 552ms/step - loss: 3.1807 - acc: 0.2620 - val_loss: 3.7223 - val_acc: 0.1523\n",
      "Epoch 15/20\n",
      "298/298 [==============================] - 165s 552ms/step - loss: 3.1148 - acc: 0.2795 - val_loss: 3.6890 - val_acc: 0.1713\n",
      "Epoch 16/20\n",
      "298/298 [==============================] - 163s 547ms/step - loss: 3.0711 - acc: 0.2832 - val_loss: 3.6561 - val_acc: 0.1637\n",
      "Epoch 17/20\n",
      "298/298 [==============================] - 165s 552ms/step - loss: 3.0007 - acc: 0.2955 - val_loss: 3.6935 - val_acc: 0.1711\n",
      "Epoch 18/20\n",
      "298/298 [==============================] - 162s 544ms/step - loss: 2.9672 - acc: 0.3085 - val_loss: 3.6960 - val_acc: 0.1737\n",
      "Epoch 19/20\n",
      "298/298 [==============================] - 162s 543ms/step - loss: 2.9083 - acc: 0.3133 - val_loss: 3.6838 - val_acc: 0.1668\n",
      "Epoch 20/20\n",
      "298/298 [==============================] - 162s 543ms/step - loss: 2.8488 - acc: 0.3279 - val_loss: 3.6040 - val_acc: 0.1875\n"
     ]
    }
   ],
   "source": [
    "mod5 = simple_model5.fit_generator(generator=training_generator,\n",
    "                    validation_data=validation_generator,\n",
    "                    use_multiprocessing=True,\n",
    "                    workers=2, epochs=20,\n",
    "                    verbose=1)"
   ]
  },
  {
   "cell_type": "code",
   "execution_count": 27,
   "metadata": {},
   "outputs": [],
   "source": []
  },
  {
   "cell_type": "code",
   "execution_count": 28,
   "metadata": {},
   "outputs": [
    {
     "name": "stdout",
     "output_type": "stream",
     "text": [
      "Epoch 1/20\n",
      "297/298 [============================>.] - ETA: 0s - loss: 2.8182 - acc: 0.3297Epoch 1/20\n",
      "298/298 [==============================] - 163s 546ms/step - loss: 2.8195 - acc: 0.3295 - val_loss: 3.6423 - val_acc: 0.1806\n",
      "Epoch 2/20\n",
      "298/298 [==============================] - 161s 542ms/step - loss: 2.7415 - acc: 0.3407 - val_loss: 3.6359 - val_acc: 0.1761\n",
      "Epoch 3/20\n",
      "298/298 [==============================] - 162s 543ms/step - loss: 2.7321 - acc: 0.3505 - val_loss: 3.6767 - val_acc: 0.1756\n",
      "Epoch 4/20\n",
      "298/298 [==============================] - 161s 539ms/step - loss: 2.6913 - acc: 0.3603 - val_loss: 3.5874 - val_acc: 0.1909\n",
      "Epoch 5/20\n",
      "298/298 [==============================] - 161s 542ms/step - loss: 2.6158 - acc: 0.3762 - val_loss: 3.5724 - val_acc: 0.1894\n",
      "Epoch 6/20\n",
      "298/298 [==============================] - 161s 540ms/step - loss: 2.5942 - acc: 0.3823 - val_loss: 3.6348 - val_acc: 0.1947\n",
      "Epoch 7/20\n",
      "298/298 [==============================] - 164s 551ms/step - loss: 2.5399 - acc: 0.3868 - val_loss: 3.6031 - val_acc: 0.2010\n",
      "Epoch 8/20\n",
      "298/298 [==============================] - 162s 542ms/step - loss: 2.5262 - acc: 0.3941 - val_loss: 3.6935 - val_acc: 0.1864\n",
      "Epoch 9/20\n",
      "298/298 [==============================] - 162s 542ms/step - loss: 2.4678 - acc: 0.4032 - val_loss: 3.6156 - val_acc: 0.1886\n",
      "Epoch 10/20\n",
      "298/298 [==============================] - 161s 541ms/step - loss: 2.4282 - acc: 0.4120 - val_loss: 3.5157 - val_acc: 0.2158\n",
      "Epoch 11/20\n",
      "298/298 [==============================] - 160s 538ms/step - loss: 2.4155 - acc: 0.4148 - val_loss: 3.5562 - val_acc: 0.2079\n",
      "Epoch 12/20\n",
      "298/298 [==============================] - 160s 536ms/step - loss: 2.3688 - acc: 0.4232 - val_loss: 3.6062 - val_acc: 0.2100\n",
      "Epoch 13/20\n",
      "298/298 [==============================] - 160s 538ms/step - loss: 2.3363 - acc: 0.4333 - val_loss: 3.5575 - val_acc: 0.2082\n",
      "Epoch 14/20\n",
      "298/298 [==============================] - 160s 538ms/step - loss: 2.2994 - acc: 0.4395 - val_loss: 3.4716 - val_acc: 0.2251\n",
      "Epoch 15/20\n",
      "298/298 [==============================] - 160s 538ms/step - loss: 2.2677 - acc: 0.4452 - val_loss: 3.5057 - val_acc: 0.2105\n",
      "Epoch 16/20\n",
      "298/298 [==============================] - 161s 539ms/step - loss: 2.2630 - acc: 0.4475 - val_loss: 3.5767 - val_acc: 0.2137\n",
      "Epoch 17/20\n",
      "298/298 [==============================] - 165s 552ms/step - loss: 2.2370 - acc: 0.4546 - val_loss: 3.4265 - val_acc: 0.2291\n",
      "Epoch 18/20\n",
      "298/298 [==============================] - 220s 737ms/step - loss: 2.1744 - acc: 0.4620 - val_loss: 3.5137 - val_acc: 0.2105\n",
      "Epoch 19/20\n",
      "298/298 [==============================] - 254s 851ms/step - loss: 2.1450 - acc: 0.4759 - val_loss: 3.5071 - val_acc: 0.2309\n",
      "Epoch 20/20\n",
      "298/298 [==============================] - 245s 822ms/step - loss: 2.1716 - acc: 0.4672 - val_loss: 3.4823 - val_acc: 0.2214\n"
     ]
    }
   ],
   "source": [
    "mod6 = simple_model5.fit_generator(generator=training_generator,\n",
    "                    validation_data=validation_generator,\n",
    "                    use_multiprocessing=True,\n",
    "                    workers=2, epochs=20,\n",
    "                    verbose=1)"
   ]
  },
  {
   "cell_type": "code",
   "execution_count": 30,
   "metadata": {},
   "outputs": [],
   "source": [
    "simple_model5.save_weights('.motion_model_cifar_c4_weights2.h5')"
   ]
  },
  {
   "cell_type": "code",
   "execution_count": 4,
   "metadata": {},
   "outputs": [],
   "source": [
    "simple_model5= getKerasCifarMotionModelOnly(input_shape=(224,224,8), n_classes=101, printmod=0)\n",
    "simple_model5.load_weights('.motion_model_cifar_c4_weights2.h5')\n",
    "mypotim = SGD(lr=1e-4, momentum=0.9)\n",
    "simple_model5.compile(loss='categorical_crossentropy',\n",
    "              optimizer=mypotim,\n",
    "              metrics=['accuracy'])"
   ]
  },
  {
   "cell_type": "code",
   "execution_count": 5,
   "metadata": {},
   "outputs": [
    {
     "name": "stdout",
     "output_type": "stream",
     "text": [
      "Epoch 1/10\n",
      "298/298 [==============================] - 163s 546ms/step - loss: 1.9861 - acc: 0.5089 - val_loss: 3.4546 - val_acc: 0.2341\n",
      "Epoch 2/10\n",
      "298/298 [==============================] - 211s 707ms/step - loss: 1.9622 - acc: 0.5082 - val_loss: 3.4572 - val_acc: 0.2381\n",
      "Epoch 3/10\n",
      "298/298 [==============================] - 232s 778ms/step - loss: 1.9621 - acc: 0.5076 - val_loss: 3.4113 - val_acc: 0.2434\n",
      "Epoch 4/10\n",
      "298/298 [==============================] - 274s 918ms/step - loss: 1.9239 - acc: 0.5072 - val_loss: 3.4596 - val_acc: 0.2325\n",
      "Epoch 5/10\n",
      "298/298 [==============================] - 251s 843ms/step - loss: 1.8927 - acc: 0.5224 - val_loss: 3.4602 - val_acc: 0.2418\n",
      "Epoch 6/10\n",
      "298/298 [==============================] - 262s 879ms/step - loss: 1.8838 - acc: 0.5273 - val_loss: 3.4369 - val_acc: 0.2463\n",
      "Epoch 7/10\n",
      "298/298 [==============================] - 288s 967ms/step - loss: 1.8920 - acc: 0.5266 - val_loss: 3.4296 - val_acc: 0.2503\n",
      "Epoch 8/10\n",
      "298/298 [==============================] - 315s 1s/step - loss: 1.8864 - acc: 0.5273 - val_loss: 3.4333 - val_acc: 0.2450\n",
      "Epoch 9/10\n",
      "298/298 [==============================] - 325s 1s/step - loss: 1.8758 - acc: 0.5270 - val_loss: 3.3834 - val_acc: 0.2569\n",
      "Epoch 10/10\n",
      " 16/298 [>.............................] - ETA: 5:20 - loss: 1.9416 - acc: 0.5293"
     ]
    },
    {
     "name": "stderr",
     "output_type": "stream",
     "text": [
      "/home/ubuntu/anaconda3/envs/tensorflow_p36/lib/python3.6/site-packages/keras/callbacks.py:120: UserWarning: Method on_batch_end() is slow compared to the batch update (0.549263). Check your callbacks.\n",
      "  % delta_t_median)\n"
     ]
    },
    {
     "name": "stdout",
     "output_type": "stream",
     "text": [
      "298/298 [==============================] - 341s 1s/step - loss: 1.8424 - acc: 0.5337 - val_loss: 3.4166 - val_acc: 0.2442\n"
     ]
    }
   ],
   "source": [
    "mod6 = simple_model5.fit_generator(generator=training_generator,\n",
    "                    validation_data=validation_generator,\n",
    "                    use_multiprocessing=True,\n",
    "                    workers=2, epochs=10,\n",
    "                    verbose=1)"
   ]
  },
  {
   "cell_type": "code",
   "execution_count": 6,
   "metadata": {},
   "outputs": [],
   "source": [
    "simple_model5.save_weights('.motion_model_cifar_c4_weights3.h5')"
   ]
  },
  {
   "cell_type": "code",
   "execution_count": null,
   "metadata": {},
   "outputs": [],
   "source": []
  }
 ],
 "metadata": {
  "kernelspec": {
   "display_name": "Python [conda env:tensorflow_p36]",
   "language": "python",
   "name": "conda-env-tensorflow_p36-py"
  },
  "language_info": {
   "codemirror_mode": {
    "name": "ipython",
    "version": 3
   },
   "file_extension": ".py",
   "mimetype": "text/x-python",
   "name": "python",
   "nbconvert_exporter": "python",
   "pygments_lexer": "ipython3",
   "version": "3.6.4"
  }
 },
 "nbformat": 4,
 "nbformat_minor": 2
}
