{
 "cells": [
  {
   "cell_type": "markdown",
   "metadata": {},
   "source": [
    "## VGG 16 on CIFAR dataset \n",
    "\n",
    "    Essentially VGG16 seems to be struggling quite badly on UCF101 spatial data set. Its stayed at 1% for 5 epochs which is effectively a random guess. So my feeling is potentially I'm feeding in the data badly or something is terribly wrong with the model the way I've set it up. So what I aim to do is essentially using that same model feed it CIFAR 10 which there are loads of example and I should expect I'll be doing at least 60% with VGG 16 if not higher. "
   ]
  },
  {
   "cell_type": "code",
   "execution_count": 2,
   "metadata": {},
   "outputs": [
    {
     "name": "stdout",
     "output_type": "stream",
     "text": [
      "train: (20000, 32, 32, 3) (20000,)\n",
      "test: (5000, 32, 32, 3) (5000,)\n"
     ]
    }
   ],
   "source": [
    "# first lets load the data set\n",
    "\n",
    "from cifar_dataset import data_utils\n",
    "import numpy as np\n",
    "\n",
    "\n",
    "# get rescaled training data and convert to data frame\n",
    "X_train, y_train, X_test, y_test = data_utils.load_CIFAR10(\"cifar_dataset/cifar-10-batches-py\")\n",
    "\n",
    "# Subsample the data for more efficient code execution in this exercise\n",
    "num_training = 20000\n",
    "mask = list(range(num_training))\n",
    "X_train = X_train[mask]\n",
    "y_train = y_train[mask]\n",
    "\n",
    "num_test = 5000\n",
    "mask = list(range(num_test))\n",
    "X_test = X_test[mask]\n",
    "y_test = y_test[mask]\n",
    "\n",
    "mean_image = np.mean(X_train, axis=0)\n",
    "X_train -= mean_image\n",
    "X_test -= mean_image\n",
    "\n",
    "# Reshape the image data into rows\n",
    "print(\"train:\", X_train.shape, y_train.shape)\n",
    "print(\"test:\", X_test.shape, y_test.shape)"
   ]
  },
  {
   "cell_type": "code",
   "execution_count": 2,
   "metadata": {},
   "outputs": [
    {
     "name": "stderr",
     "output_type": "stream",
     "text": [
      "/home/ubuntu/anaconda3/envs/tensorflow_p36/lib/python3.6/site-packages/h5py/__init__.py:36: FutureWarning: Conversion of the second argument of issubdtype from `float` to `np.floating` is deprecated. In future, it will be treated as `np.float64 == np.dtype(float).type`.\n",
      "  from ._conv import register_converters as _register_converters\n",
      "Using TensorFlow backend.\n",
      "/home/ubuntu/anaconda3/envs/tensorflow_p36/lib/python3.6/site-packages/matplotlib/__init__.py:1067: UserWarning: Duplicate key in file \"/home/ubuntu/.config/matplotlib/matplotlibrc\", line #2\n",
      "  (fname, cnt))\n",
      "/home/ubuntu/anaconda3/envs/tensorflow_p36/lib/python3.6/site-packages/matplotlib/__init__.py:1067: UserWarning: Duplicate key in file \"/home/ubuntu/.config/matplotlib/matplotlibrc\", line #3\n",
      "  (fname, cnt))\n"
     ]
    },
    {
     "name": "stdout",
     "output_type": "stream",
     "text": [
      "_________________________________________________________________\n",
      "Layer (type)                 Output Shape              Param #   \n",
      "=================================================================\n",
      "input_1 (InputLayer)         (None, 48, 48, 3)         0         \n",
      "_________________________________________________________________\n",
      "block1_conv1 (Conv2D)        (None, 48, 48, 64)        1792      \n",
      "_________________________________________________________________\n",
      "block1_conv2 (Conv2D)        (None, 48, 48, 64)        36928     \n",
      "_________________________________________________________________\n",
      "block1_pool (MaxPooling2D)   (None, 24, 24, 64)        0         \n",
      "_________________________________________________________________\n",
      "block2_conv1 (Conv2D)        (None, 24, 24, 128)       73856     \n",
      "_________________________________________________________________\n",
      "block2_conv2 (Conv2D)        (None, 24, 24, 128)       147584    \n",
      "_________________________________________________________________\n",
      "block2_pool (MaxPooling2D)   (None, 12, 12, 128)       0         \n",
      "_________________________________________________________________\n",
      "block3_conv1 (Conv2D)        (None, 12, 12, 256)       295168    \n",
      "_________________________________________________________________\n",
      "block3_conv2 (Conv2D)        (None, 12, 12, 256)       590080    \n",
      "_________________________________________________________________\n",
      "block3_conv3 (Conv2D)        (None, 12, 12, 256)       590080    \n",
      "_________________________________________________________________\n",
      "block3_pool (MaxPooling2D)   (None, 6, 6, 256)         0         \n",
      "_________________________________________________________________\n",
      "block4_conv1 (Conv2D)        (None, 6, 6, 512)         1180160   \n",
      "_________________________________________________________________\n",
      "block4_conv2 (Conv2D)        (None, 6, 6, 512)         2359808   \n",
      "_________________________________________________________________\n",
      "block4_conv3 (Conv2D)        (None, 6, 6, 512)         2359808   \n",
      "_________________________________________________________________\n",
      "block4_pool (MaxPooling2D)   (None, 3, 3, 512)         0         \n",
      "_________________________________________________________________\n",
      "block5_conv1 (Conv2D)        (None, 3, 3, 512)         2359808   \n",
      "_________________________________________________________________\n",
      "block5_conv2 (Conv2D)        (None, 3, 3, 512)         2359808   \n",
      "_________________________________________________________________\n",
      "block5_conv3 (Conv2D)        (None, 3, 3, 512)         2359808   \n",
      "_________________________________________________________________\n",
      "block5_pool (MaxPooling2D)   (None, 1, 1, 512)         0         \n",
      "_________________________________________________________________\n",
      "flatten_1 (Flatten)          (None, 512)               0         \n",
      "_________________________________________________________________\n",
      "dense_1 (Dense)              (None, 4096)              2101248   \n",
      "_________________________________________________________________\n",
      "dropout_1 (Dropout)          (None, 4096)              0         \n",
      "_________________________________________________________________\n",
      "dense_2 (Dense)              (None, 4096)              16781312  \n",
      "_________________________________________________________________\n",
      "dropout_2 (Dropout)          (None, 4096)              0         \n",
      "_________________________________________________________________\n",
      "dense_3 (Dense)              (None, 10)                40970     \n",
      "=================================================================\n",
      "Total params: 33,638,218\n",
      "Trainable params: 18,923,530\n",
      "Non-trainable params: 14,714,688\n",
      "_________________________________________________________________\n"
     ]
    }
   ],
   "source": [
    "# now lets create the network \n",
    "\n",
    "import network \n",
    "\n",
    "\n",
    "from keras.callbacks import ModelCheckpoint, Callback, EarlyStopping\n",
    "\n",
    "def get_callbacks(filepath, patience=10):\n",
    "    es = EarlyStopping('val_loss', patience=patience, mode=\"min\")\n",
    "    msave = ModelCheckpoint(filepath, save_best_only=True)\n",
    "    return [es, msave]\n",
    "file_path = \".model_weights.hdf5\"\n",
    "callbacks = get_callbacks(filepath=file_path, patience=5)\n",
    "\n",
    "model= network.getVggModel(1e-5,1e-1,0.9, (48,48,3), 10)"
   ]
  },
  {
   "cell_type": "code",
   "execution_count": 3,
   "metadata": {},
   "outputs": [
    {
     "name": "stderr",
     "output_type": "stream",
     "text": [
      "/home/ubuntu/anaconda3/envs/tensorflow_p36/lib/python3.6/site-packages/matplotlib/__init__.py:1067: UserWarning: Duplicate key in file \"/home/ubuntu/.config/matplotlib/matplotlibrc\", line #2\n",
      "  (fname, cnt))\n",
      "/home/ubuntu/anaconda3/envs/tensorflow_p36/lib/python3.6/site-packages/matplotlib/__init__.py:1067: UserWarning: Duplicate key in file \"/home/ubuntu/.config/matplotlib/matplotlibrc\", line #3\n",
      "  (fname, cnt))\n",
      "/home/ubuntu/anaconda3/envs/tensorflow_p36/lib/python3.6/site-packages/matplotlib/font_manager.py:278: UserWarning: Matplotlib is building the font cache using fc-list. This may take a moment.\n",
      "  'Matplotlib is building the font cache using fc-list. '\n"
     ]
    }
   ],
   "source": [
    "import matplotlib.pyplot as plt\n",
    "import cv2\n",
    "\n",
    "X_train_aug = np.empty((X_train.shape[0], 48, 48, 3))\n",
    "X_test_aug = np.empty((X_test.shape[0], 48, 48, 3))\n",
    "\n",
    "b = None\n",
    "for i, img in enumerate(X_train):\n",
    "    X_train_aug[i] = cv2.resize(img, (48,48))\n",
    "    \n",
    "for i, img in enumerate(X_test):\n",
    "    X_test_aug[i] = cv2.resize(img, (48,48))"
   ]
  },
  {
   "cell_type": "code",
   "execution_count": 11,
   "metadata": {},
   "outputs": [
    {
     "data": {
      "text/plain": [
       "<matplotlib.image.AxesImage at 0x7f65c654c588>"
      ]
     },
     "execution_count": 11,
     "metadata": {},
     "output_type": "execute_result"
    },
    {
     "data": {
      "image/png": "[encoded data removed]",
      "text/plain": [
       "<Figure size 432x288 with 1 Axes>"
      ]
     },
     "metadata": {},
     "output_type": "display_data"
    }
   ],
   "source": [
    "\n",
    "norm_image = cv2.normalize(X_train_aug[0], dst=None, alpha=0, beta=1, norm_type=cv2.NORM_MINMAX, dtype=cv2.CV_32F)\n",
    "\n",
    "plt.imshow(norm_image)"
   ]
  },
  {
   "cell_type": "code",
   "execution_count": 5,
   "metadata": {},
   "outputs": [],
   "source": [
    "import keras\n",
    "\n",
    "y_train_cat = keras.utils.to_categorical(y_train, num_classes=10)\n",
    "y_test_cat = keras.utils.to_categorical(y_test, num_classes=10)\n"
   ]
  },
  {
   "cell_type": "code",
   "execution_count": 6,
   "metadata": {},
   "outputs": [
    {
     "name": "stdout",
     "output_type": "stream",
     "text": [
      "WARNING:tensorflow:Variable *= will be deprecated. Use variable.assign_mul if you want assignment to the variable value or 'x = x * y' if you want a new python Tensor object.\n",
      "Train on 20000 samples, validate on 5000 samples\n",
      "Epoch 1/40\n",
      "20000/20000 [==============================] - 23s 1ms/step - loss: 13.5889 - acc: 0.1009 - val_loss: 4.5659 - val_acc: 0.1490\n",
      "Epoch 2/40\n",
      "20000/20000 [==============================] - 21s 1ms/step - loss: 13.5055 - acc: 0.1064 - val_loss: 3.7220 - val_acc: 0.2240\n",
      "Epoch 3/40\n",
      "20000/20000 [==============================] - 21s 1ms/step - loss: 13.4502 - acc: 0.1085 - val_loss: 3.5811 - val_acc: 0.2854\n",
      "Epoch 4/40\n",
      "20000/20000 [==============================] - 21s 1ms/step - loss: 13.3821 - acc: 0.1102 - val_loss: 4.0420 - val_acc: 0.2966\n",
      "Epoch 5/40\n",
      "20000/20000 [==============================] - 21s 1ms/step - loss: 13.3191 - acc: 0.1158 - val_loss: 4.5100 - val_acc: 0.2944\n",
      "Epoch 6/40\n",
      "20000/20000 [==============================] - 21s 1ms/step - loss: 13.1675 - acc: 0.1221 - val_loss: 4.5652 - val_acc: 0.3040\n",
      "Epoch 7/40\n",
      "20000/20000 [==============================] - 21s 1ms/step - loss: 13.0868 - acc: 0.1283 - val_loss: 4.3215 - val_acc: 0.3340\n",
      "Epoch 8/40\n",
      "20000/20000 [==============================] - 21s 1ms/step - loss: 12.9917 - acc: 0.1296 - val_loss: 4.5834 - val_acc: 0.3456\n",
      "Epoch 9/40\n",
      "20000/20000 [==============================] - 21s 1ms/step - loss: 12.9323 - acc: 0.1320 - val_loss: 5.0568 - val_acc: 0.3446\n",
      "Epoch 10/40\n",
      "20000/20000 [==============================] - 21s 1ms/step - loss: 12.8857 - acc: 0.1341 - val_loss: 4.8166 - val_acc: 0.3604\n",
      "Epoch 11/40\n",
      "20000/20000 [==============================] - 21s 1ms/step - loss: 12.6745 - acc: 0.1448 - val_loss: 4.8541 - val_acc: 0.3666\n",
      "Epoch 12/40\n",
      "20000/20000 [==============================] - 21s 1ms/step - loss: 12.5734 - acc: 0.1512 - val_loss: 4.9746 - val_acc: 0.3630\n",
      "Epoch 13/40\n",
      "20000/20000 [==============================] - 21s 1ms/step - loss: 12.5181 - acc: 0.1536 - val_loss: 4.7749 - val_acc: 0.3868\n",
      "Epoch 14/40\n",
      "20000/20000 [==============================] - 21s 1ms/step - loss: 12.3225 - acc: 0.1599 - val_loss: 4.8709 - val_acc: 0.3974\n",
      "Epoch 15/40\n",
      "20000/20000 [==============================] - 21s 1ms/step - loss: 12.2266 - acc: 0.1669 - val_loss: 5.0509 - val_acc: 0.3910\n",
      "Epoch 16/40\n",
      "20000/20000 [==============================] - 21s 1ms/step - loss: 12.1576 - acc: 0.1710 - val_loss: 5.2347 - val_acc: 0.3944\n",
      "Epoch 17/40\n",
      "20000/20000 [==============================] - 21s 1ms/step - loss: 12.0377 - acc: 0.1762 - val_loss: 5.5471 - val_acc: 0.3960\n",
      "Epoch 18/40\n",
      "20000/20000 [==============================] - 21s 1ms/step - loss: 11.8977 - acc: 0.1856 - val_loss: 5.6836 - val_acc: 0.3948\n",
      "Epoch 19/40\n",
      "20000/20000 [==============================] - 21s 1ms/step - loss: 11.7176 - acc: 0.1954 - val_loss: 5.5917 - val_acc: 0.4034\n",
      "Epoch 20/40\n",
      "20000/20000 [==============================] - 21s 1ms/step - loss: 11.6675 - acc: 0.1963 - val_loss: 5.6463 - val_acc: 0.4046\n",
      "Epoch 21/40\n",
      "20000/20000 [==============================] - 21s 1ms/step - loss: 11.6262 - acc: 0.1969 - val_loss: 5.5115 - val_acc: 0.4158\n",
      "Epoch 22/40\n",
      "20000/20000 [==============================] - 21s 1ms/step - loss: 11.5270 - acc: 0.2015 - val_loss: 5.5225 - val_acc: 0.4264\n",
      "Epoch 23/40\n",
      "20000/20000 [==============================] - 21s 1ms/step - loss: 11.3440 - acc: 0.2157 - val_loss: 5.7548 - val_acc: 0.4204\n",
      "Epoch 24/40\n",
      "20000/20000 [==============================] - 21s 1ms/step - loss: 11.2584 - acc: 0.2162 - val_loss: 5.7744 - val_acc: 0.4234\n",
      "Epoch 25/40\n",
      "20000/20000 [==============================] - 21s 1ms/step - loss: 11.2289 - acc: 0.2189 - val_loss: 5.6846 - val_acc: 0.4336\n",
      "Epoch 26/40\n",
      "20000/20000 [==============================] - 21s 1ms/step - loss: 11.0976 - acc: 0.2295 - val_loss: 5.5146 - val_acc: 0.4430\n",
      "Epoch 27/40\n",
      "20000/20000 [==============================] - 21s 1ms/step - loss: 10.9330 - acc: 0.2351 - val_loss: 5.5705 - val_acc: 0.4460\n",
      "Epoch 28/40\n",
      "20000/20000 [==============================] - 21s 1ms/step - loss: 10.8886 - acc: 0.2379 - val_loss: 5.7143 - val_acc: 0.4414\n",
      "Epoch 29/40\n",
      "20000/20000 [==============================] - 21s 1ms/step - loss: 10.7640 - acc: 0.2448 - val_loss: 5.6462 - val_acc: 0.4448\n",
      "Epoch 30/40\n",
      "20000/20000 [==============================] - 21s 1ms/step - loss: 10.7606 - acc: 0.2432 - val_loss: 5.5913 - val_acc: 0.4502\n",
      "Epoch 31/40\n",
      "20000/20000 [==============================] - 21s 1ms/step - loss: 10.6246 - acc: 0.2538 - val_loss: 5.5132 - val_acc: 0.4586\n",
      "Epoch 32/40\n",
      "20000/20000 [==============================] - 21s 1ms/step - loss: 10.4317 - acc: 0.2596 - val_loss: 5.5215 - val_acc: 0.4576\n",
      "Epoch 33/40\n",
      "20000/20000 [==============================] - 21s 1ms/step - loss: 10.4375 - acc: 0.2616 - val_loss: 5.6339 - val_acc: 0.4542\n",
      "Epoch 34/40\n",
      "20000/20000 [==============================] - 21s 1ms/step - loss: 10.3245 - acc: 0.2666 - val_loss: 5.5837 - val_acc: 0.4596\n",
      "Epoch 35/40\n",
      "20000/20000 [==============================] - 21s 1ms/step - loss: 10.1718 - acc: 0.2753 - val_loss: 5.4356 - val_acc: 0.4702\n",
      "Epoch 36/40\n",
      "20000/20000 [==============================] - 21s 1ms/step - loss: 10.1204 - acc: 0.2743 - val_loss: 5.4900 - val_acc: 0.4710\n",
      "Epoch 37/40\n",
      "20000/20000 [==============================] - 21s 1ms/step - loss: 10.0213 - acc: 0.2811 - val_loss: 5.4392 - val_acc: 0.4748\n",
      "Epoch 38/40\n",
      "20000/20000 [==============================] - 21s 1ms/step - loss: 9.9735 - acc: 0.2849 - val_loss: 5.4645 - val_acc: 0.4732\n",
      "Epoch 39/40\n",
      "20000/20000 [==============================] - 21s 1ms/step - loss: 9.9175 - acc: 0.2913 - val_loss: 5.4807 - val_acc: 0.4772\n",
      "Epoch 40/40\n",
      "20000/20000 [==============================] - 21s 1ms/step - loss: 9.8435 - acc: 0.2913 - val_loss: 5.3211 - val_acc: 0.4868\n"
     ]
    }
   ],
   "source": [
    "\n",
    "keras.utils.to_categorical\n",
    "mod1=model.fit(X_train_aug, y_train_cat,\n",
    "          batch_size=64,\n",
    "          epochs=40,\n",
    "          verbose=1,\n",
    "          validation_data=(X_test_aug, y_test_cat))"
   ]
  },
  {
   "cell_type": "code",
   "execution_count": null,
   "metadata": {},
   "outputs": [],
   "source": []
  }
 ],
 "metadata": {
  "kernelspec": {
   "display_name": "Environment (conda_tensorflow_p36)",
   "language": "python",
   "name": "conda_tensorflow_p36"
  },
  "language_info": {
   "codemirror_mode": {
    "name": "ipython",
    "version": 3
   },
   "file_extension": ".py",
   "mimetype": "text/x-python",
   "name": "python",
   "nbconvert_exporter": "python",
   "pygments_lexer": "ipython3",
   "version": "3.6.4"
  }
 },
 "nbformat": 4,
 "nbformat_minor": 2
}
